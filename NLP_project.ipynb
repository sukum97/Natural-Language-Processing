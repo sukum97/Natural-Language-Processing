{
  "cells": [
    {
      "cell_type": "code",
      "execution_count": null,
      "metadata": {
        "id": "8YQfT9izN_t3"
      },
      "outputs": [],
      "source": [
        "!pip install datasets\n",
        "from datasets import load_dataset"
      ]
    },
    {
      "cell_type": "code",
      "execution_count": null,
      "metadata": {
        "id": "XVOZ2huyOhiL"
      },
      "outputs": [],
      "source": [
        "dataset=load_dataset('go_emotions','simplified')"
      ]
    },
    {
      "cell_type": "code",
      "execution_count": null,
      "metadata": {
        "id": "DA2pfrAQOpVk"
      },
      "outputs": [],
      "source": [
        "import warnings\n",
        "warnings.filterwarnings('ignore', category=DeprecationWarning)\n",
        "warnings.simplefilter(action='ignore', category=FutureWarning)\n",
        "warnings.filterwarnings(\"ignore\", category=UserWarning)\n",
        "\n",
        "import pandas as pd\n",
        "import seaborn as sns\n",
        "import numpy as np\n",
        "import matplotlib.pyplot as plt\n",
        "pd.options.display.max_columns = 100\n",
        "%matplotlib inline\n",
        "\n",
        "import nltk\n",
        "nltk.download('wordnet')\n",
        "nltk.download('stopwords')\n",
        "nltk.download('punkt')\n",
        "from nltk.corpus import stopwords\n",
        "stop_words = stopwords.words('english')\n",
        "from nltk.stem import PorterStemmer\n",
        "from nltk.stem import WordNetLemmatizer\n",
        "\n",
        "from nltk.tokenize import sent_tokenize\n",
        "from nltk.tokenize import RegexpTokenizer\n",
        "from nltk.tokenize import TweetTokenizer\n",
        "\n",
        "from sklearn.feature_extraction.text import CountVectorizer\n",
        "from sklearn.feature_extraction.text import TfidfVectorizer  # TF-IDF\n",
        "from sklearn.preprocessing import label_binarize\n",
        "from sklearn.preprocessing import LabelEncoder\n",
        "from tensorflow.keras.utils import to_categorical\n",
        "\n",
        "# Classification methods\n",
        "from sklearn.naive_bayes import MultinomialNB   # Naive Bayes\n",
        "from sklearn.tree import DecisionTreeClassifier  # Decision Tree\n",
        "from sklearn.neural_network import MLPClassifier # Multi-Layer Perceptron\n",
        "from sklearn.model_selection import train_test_split\n",
        "# Import scikit-learn metrics module for accuracy calculation\n",
        "from sklearn import metrics\n",
        "from sklearn.metrics import classification_report\n",
        "from sklearn.preprocessing import MultiLabelBinarizer\n",
        "from sklearn.linear_model import RidgeClassifier\n",
        "from sklearn.multioutput import MultiOutputClassifier\n",
        "from sklearn.metrics import precision_recall_fscore_support\n",
        "\n",
        "import math\n",
        "import torch\n",
        "import torch.nn.functional as F\n",
        "import torch.distributions\n",
        "import torch.optim as optim\n",
        "from torch import nn \n",
        "from torch.autograd import Variable\n",
        "from torch.utils.data import DataLoader, Dataset\n",
        "import torchtext\n",
        "from torchtext import data\n",
        "from torchtext import datasets\n",
        "from torchtext.vocab import Vectors, GloVe\n",
        "from tensorflow.keras.models import Sequential \n",
        "from tensorflow.keras.layers import Dense, LSTM, Embedding,Bidirectional\n",
        "import tensorflow\n",
        "from tensorflow.compat.v1.keras.layers import CuDNNLSTM,CuDNNGRU\n",
        "from tensorflow.keras.layers import Dropout\n",
        "from keras.models import Sequential\n",
        "from keras.layers import LSTM, Dense, Embedding\n",
        "from tensorflow.keras.layers import LSTM, Dense, Embedding, Bidirectional, Dropout,SpatialDropout1D\n",
        "from keras.preprocessing.text import Tokenizer\n",
        "from tensorflow.keras.preprocessing.sequence import pad_sequences\n",
        "from keras.utils import to_categorical\n",
        "from tensorflow.compat.v1.keras.layers import CuDNNLSTM,CuDNNGRU\n",
        "from tensorflow.keras.layers import Dropout\n",
        "from tensorflow.keras.layers import Dense, LSTM, Embedding,Bidirectional\n",
        "from tensorflow.keras import optimizers\n",
        "import random\n",
        "import copy\n",
        "import json\n",
        "from sklearn.metrics import (accuracy_score, classification_report,\n",
        "                             confusion_matrix, f1_score, precision_score,\n",
        "                             recall_score)\n",
        "from pprint import pprint\n",
        "# Text processing libraries\n",
        "import re\n",
        "import spacy\n",
        "from spacy.lang.en.stop_words import STOP_WORDS\n"
      ]
    },
    {
      "cell_type": "code",
      "execution_count": null,
      "metadata": {
        "id": "VlUPi9MHOken"
      },
      "outputs": [],
      "source": [
        "dataset.shape"
      ]
    },
    {
      "cell_type": "code",
      "execution_count": 102,
      "metadata": {
        "colab": {
          "base_uri": "https://localhost:8080/",
          "height": 223
        },
        "id": "q88cJaneOrgp",
        "outputId": "b4158132-7bae-4996-cd24-87b419666141"
      },
      "outputs": [
        {
          "output_type": "stream",
          "name": "stdout",
          "text": [
            "(54263, 3)\n"
          ]
        },
        {
          "output_type": "execute_result",
          "data": {
            "text/plain": [
              "                                                text labels       id\n",
              "0  My favourite food is anything I didn't have to...   [27]  eebbqej\n",
              "1  Now if he does off himself, everyone will thin...   [27]  ed00q6i\n",
              "2                     WHY THE FUCK IS BAYLESS ISOING    [2]  eezlygj\n",
              "3                        To make her feel threatened   [14]  ed7ypvh\n",
              "4                             Dirty Southern Wankers    [3]  ed0bdzj"
            ],
            "text/html": [
              "\n",
              "  <div id=\"df-dce0e064-f74a-4fda-a655-60f39642f47e\">\n",
              "    <div class=\"colab-df-container\">\n",
              "      <div>\n",
              "<style scoped>\n",
              "    .dataframe tbody tr th:only-of-type {\n",
              "        vertical-align: middle;\n",
              "    }\n",
              "\n",
              "    .dataframe tbody tr th {\n",
              "        vertical-align: top;\n",
              "    }\n",
              "\n",
              "    .dataframe thead th {\n",
              "        text-align: right;\n",
              "    }\n",
              "</style>\n",
              "<table border=\"1\" class=\"dataframe\">\n",
              "  <thead>\n",
              "    <tr style=\"text-align: right;\">\n",
              "      <th></th>\n",
              "      <th>text</th>\n",
              "      <th>labels</th>\n",
              "      <th>id</th>\n",
              "    </tr>\n",
              "  </thead>\n",
              "  <tbody>\n",
              "    <tr>\n",
              "      <th>0</th>\n",
              "      <td>My favourite food is anything I didn't have to...</td>\n",
              "      <td>[27]</td>\n",
              "      <td>eebbqej</td>\n",
              "    </tr>\n",
              "    <tr>\n",
              "      <th>1</th>\n",
              "      <td>Now if he does off himself, everyone will thin...</td>\n",
              "      <td>[27]</td>\n",
              "      <td>ed00q6i</td>\n",
              "    </tr>\n",
              "    <tr>\n",
              "      <th>2</th>\n",
              "      <td>WHY THE FUCK IS BAYLESS ISOING</td>\n",
              "      <td>[2]</td>\n",
              "      <td>eezlygj</td>\n",
              "    </tr>\n",
              "    <tr>\n",
              "      <th>3</th>\n",
              "      <td>To make her feel threatened</td>\n",
              "      <td>[14]</td>\n",
              "      <td>ed7ypvh</td>\n",
              "    </tr>\n",
              "    <tr>\n",
              "      <th>4</th>\n",
              "      <td>Dirty Southern Wankers</td>\n",
              "      <td>[3]</td>\n",
              "      <td>ed0bdzj</td>\n",
              "    </tr>\n",
              "  </tbody>\n",
              "</table>\n",
              "</div>\n",
              "      <button class=\"colab-df-convert\" onclick=\"convertToInteractive('df-dce0e064-f74a-4fda-a655-60f39642f47e')\"\n",
              "              title=\"Convert this dataframe to an interactive table.\"\n",
              "              style=\"display:none;\">\n",
              "        \n",
              "  <svg xmlns=\"http://www.w3.org/2000/svg\" height=\"24px\"viewBox=\"0 0 24 24\"\n",
              "       width=\"24px\">\n",
              "    <path d=\"M0 0h24v24H0V0z\" fill=\"none\"/>\n",
              "    <path d=\"M18.56 5.44l.94 2.06.94-2.06 2.06-.94-2.06-.94-.94-2.06-.94 2.06-2.06.94zm-11 1L8.5 8.5l.94-2.06 2.06-.94-2.06-.94L8.5 2.5l-.94 2.06-2.06.94zm10 10l.94 2.06.94-2.06 2.06-.94-2.06-.94-.94-2.06-.94 2.06-2.06.94z\"/><path d=\"M17.41 7.96l-1.37-1.37c-.4-.4-.92-.59-1.43-.59-.52 0-1.04.2-1.43.59L10.3 9.45l-7.72 7.72c-.78.78-.78 2.05 0 2.83L4 21.41c.39.39.9.59 1.41.59.51 0 1.02-.2 1.41-.59l7.78-7.78 2.81-2.81c.8-.78.8-2.07 0-2.86zM5.41 20L4 18.59l7.72-7.72 1.47 1.35L5.41 20z\"/>\n",
              "  </svg>\n",
              "      </button>\n",
              "      \n",
              "  <style>\n",
              "    .colab-df-container {\n",
              "      display:flex;\n",
              "      flex-wrap:wrap;\n",
              "      gap: 12px;\n",
              "    }\n",
              "\n",
              "    .colab-df-convert {\n",
              "      background-color: #E8F0FE;\n",
              "      border: none;\n",
              "      border-radius: 50%;\n",
              "      cursor: pointer;\n",
              "      display: none;\n",
              "      fill: #1967D2;\n",
              "      height: 32px;\n",
              "      padding: 0 0 0 0;\n",
              "      width: 32px;\n",
              "    }\n",
              "\n",
              "    .colab-df-convert:hover {\n",
              "      background-color: #E2EBFA;\n",
              "      box-shadow: 0px 1px 2px rgba(60, 64, 67, 0.3), 0px 1px 3px 1px rgba(60, 64, 67, 0.15);\n",
              "      fill: #174EA6;\n",
              "    }\n",
              "\n",
              "    [theme=dark] .colab-df-convert {\n",
              "      background-color: #3B4455;\n",
              "      fill: #D2E3FC;\n",
              "    }\n",
              "\n",
              "    [theme=dark] .colab-df-convert:hover {\n",
              "      background-color: #434B5C;\n",
              "      box-shadow: 0px 1px 3px 1px rgba(0, 0, 0, 0.15);\n",
              "      filter: drop-shadow(0px 1px 2px rgba(0, 0, 0, 0.3));\n",
              "      fill: #FFFFFF;\n",
              "    }\n",
              "  </style>\n",
              "\n",
              "      <script>\n",
              "        const buttonEl =\n",
              "          document.querySelector('#df-dce0e064-f74a-4fda-a655-60f39642f47e button.colab-df-convert');\n",
              "        buttonEl.style.display =\n",
              "          google.colab.kernel.accessAllowed ? 'block' : 'none';\n",
              "\n",
              "        async function convertToInteractive(key) {\n",
              "          const element = document.querySelector('#df-dce0e064-f74a-4fda-a655-60f39642f47e');\n",
              "          const dataTable =\n",
              "            await google.colab.kernel.invokeFunction('convertToInteractive',\n",
              "                                                     [key], {});\n",
              "          if (!dataTable) return;\n",
              "\n",
              "          const docLinkHtml = 'Like what you see? Visit the ' +\n",
              "            '<a target=\"_blank\" href=https://colab.research.google.com/notebooks/data_table.ipynb>data table notebook</a>'\n",
              "            + ' to learn more about interactive tables.';\n",
              "          element.innerHTML = '';\n",
              "          dataTable['output_type'] = 'display_data';\n",
              "          await google.colab.output.renderOutput(dataTable, element);\n",
              "          const docLink = document.createElement('div');\n",
              "          docLink.innerHTML = docLinkHtml;\n",
              "          element.appendChild(docLink);\n",
              "        }\n",
              "      </script>\n",
              "    </div>\n",
              "  </div>\n",
              "  "
            ]
          },
          "metadata": {},
          "execution_count": 102
        }
      ],
      "source": [
        "#We are combining the three dataset and considering them as one to understand the pattern.\n",
        "\n",
        "df_train=pd.DataFrame(dataset['train'])\n",
        "df_test=pd.DataFrame(dataset['test'])\n",
        "df_validation=pd.DataFrame(dataset['validation'])\n",
        "df_emo=pd.concat([df_train,df_test,df_validation])\n",
        "print(df_emo.shape)\n",
        "df_emo.head(5)"
      ]
    },
    {
      "cell_type": "code",
      "execution_count": 103,
      "metadata": {
        "id": "CgdwdqXROzsE",
        "colab": {
          "base_uri": "https://localhost:8080/",
          "height": 0
        },
        "outputId": "6647c03b-c7f7-47c6-a12e-7a52265ef71b"
      },
      "outputs": [
        {
          "output_type": "stream",
          "name": "stdout",
          "text": [
            "<class 'pandas.core.frame.DataFrame'>\n",
            "Int64Index: 54263 entries, 0 to 5425\n",
            "Data columns (total 3 columns):\n",
            " #   Column  Non-Null Count  Dtype \n",
            "---  ------  --------------  ----- \n",
            " 0   text    54263 non-null  object\n",
            " 1   labels  54263 non-null  object\n",
            " 2   id      54263 non-null  object\n",
            "dtypes: object(3)\n",
            "memory usage: 1.7+ MB\n"
          ]
        }
      ],
      "source": [
        "df_emo.info()"
      ]
    },
    {
      "cell_type": "code",
      "execution_count": 104,
      "metadata": {
        "id": "7VyoRM3jOyZ2",
        "colab": {
          "base_uri": "https://localhost:8080/",
          "height": 206
        },
        "outputId": "529ff175-dc80-4ff3-9d04-740246ab5708"
      },
      "outputs": [
        {
          "output_type": "execute_result",
          "data": {
            "text/plain": [
              "                                                text labels       id\n",
              "0  My favourite food is anything I didn't have to...     27  eebbqej\n",
              "1  Now if he does off himself, everyone will thin...     27  ed00q6i\n",
              "2                     WHY THE FUCK IS BAYLESS ISOING      2  eezlygj\n",
              "3                        To make her feel threatened     14  ed7ypvh\n",
              "4                             Dirty Southern Wankers      3  ed0bdzj"
            ],
            "text/html": [
              "\n",
              "  <div id=\"df-4f15facc-5a6f-46e6-8541-55d60280874a\">\n",
              "    <div class=\"colab-df-container\">\n",
              "      <div>\n",
              "<style scoped>\n",
              "    .dataframe tbody tr th:only-of-type {\n",
              "        vertical-align: middle;\n",
              "    }\n",
              "\n",
              "    .dataframe tbody tr th {\n",
              "        vertical-align: top;\n",
              "    }\n",
              "\n",
              "    .dataframe thead th {\n",
              "        text-align: right;\n",
              "    }\n",
              "</style>\n",
              "<table border=\"1\" class=\"dataframe\">\n",
              "  <thead>\n",
              "    <tr style=\"text-align: right;\">\n",
              "      <th></th>\n",
              "      <th>text</th>\n",
              "      <th>labels</th>\n",
              "      <th>id</th>\n",
              "    </tr>\n",
              "  </thead>\n",
              "  <tbody>\n",
              "    <tr>\n",
              "      <th>0</th>\n",
              "      <td>My favourite food is anything I didn't have to...</td>\n",
              "      <td>27</td>\n",
              "      <td>eebbqej</td>\n",
              "    </tr>\n",
              "    <tr>\n",
              "      <th>1</th>\n",
              "      <td>Now if he does off himself, everyone will thin...</td>\n",
              "      <td>27</td>\n",
              "      <td>ed00q6i</td>\n",
              "    </tr>\n",
              "    <tr>\n",
              "      <th>2</th>\n",
              "      <td>WHY THE FUCK IS BAYLESS ISOING</td>\n",
              "      <td>2</td>\n",
              "      <td>eezlygj</td>\n",
              "    </tr>\n",
              "    <tr>\n",
              "      <th>3</th>\n",
              "      <td>To make her feel threatened</td>\n",
              "      <td>14</td>\n",
              "      <td>ed7ypvh</td>\n",
              "    </tr>\n",
              "    <tr>\n",
              "      <th>4</th>\n",
              "      <td>Dirty Southern Wankers</td>\n",
              "      <td>3</td>\n",
              "      <td>ed0bdzj</td>\n",
              "    </tr>\n",
              "  </tbody>\n",
              "</table>\n",
              "</div>\n",
              "      <button class=\"colab-df-convert\" onclick=\"convertToInteractive('df-4f15facc-5a6f-46e6-8541-55d60280874a')\"\n",
              "              title=\"Convert this dataframe to an interactive table.\"\n",
              "              style=\"display:none;\">\n",
              "        \n",
              "  <svg xmlns=\"http://www.w3.org/2000/svg\" height=\"24px\"viewBox=\"0 0 24 24\"\n",
              "       width=\"24px\">\n",
              "    <path d=\"M0 0h24v24H0V0z\" fill=\"none\"/>\n",
              "    <path d=\"M18.56 5.44l.94 2.06.94-2.06 2.06-.94-2.06-.94-.94-2.06-.94 2.06-2.06.94zm-11 1L8.5 8.5l.94-2.06 2.06-.94-2.06-.94L8.5 2.5l-.94 2.06-2.06.94zm10 10l.94 2.06.94-2.06 2.06-.94-2.06-.94-.94-2.06-.94 2.06-2.06.94z\"/><path d=\"M17.41 7.96l-1.37-1.37c-.4-.4-.92-.59-1.43-.59-.52 0-1.04.2-1.43.59L10.3 9.45l-7.72 7.72c-.78.78-.78 2.05 0 2.83L4 21.41c.39.39.9.59 1.41.59.51 0 1.02-.2 1.41-.59l7.78-7.78 2.81-2.81c.8-.78.8-2.07 0-2.86zM5.41 20L4 18.59l7.72-7.72 1.47 1.35L5.41 20z\"/>\n",
              "  </svg>\n",
              "      </button>\n",
              "      \n",
              "  <style>\n",
              "    .colab-df-container {\n",
              "      display:flex;\n",
              "      flex-wrap:wrap;\n",
              "      gap: 12px;\n",
              "    }\n",
              "\n",
              "    .colab-df-convert {\n",
              "      background-color: #E8F0FE;\n",
              "      border: none;\n",
              "      border-radius: 50%;\n",
              "      cursor: pointer;\n",
              "      display: none;\n",
              "      fill: #1967D2;\n",
              "      height: 32px;\n",
              "      padding: 0 0 0 0;\n",
              "      width: 32px;\n",
              "    }\n",
              "\n",
              "    .colab-df-convert:hover {\n",
              "      background-color: #E2EBFA;\n",
              "      box-shadow: 0px 1px 2px rgba(60, 64, 67, 0.3), 0px 1px 3px 1px rgba(60, 64, 67, 0.15);\n",
              "      fill: #174EA6;\n",
              "    }\n",
              "\n",
              "    [theme=dark] .colab-df-convert {\n",
              "      background-color: #3B4455;\n",
              "      fill: #D2E3FC;\n",
              "    }\n",
              "\n",
              "    [theme=dark] .colab-df-convert:hover {\n",
              "      background-color: #434B5C;\n",
              "      box-shadow: 0px 1px 3px 1px rgba(0, 0, 0, 0.15);\n",
              "      filter: drop-shadow(0px 1px 2px rgba(0, 0, 0, 0.3));\n",
              "      fill: #FFFFFF;\n",
              "    }\n",
              "  </style>\n",
              "\n",
              "      <script>\n",
              "        const buttonEl =\n",
              "          document.querySelector('#df-4f15facc-5a6f-46e6-8541-55d60280874a button.colab-df-convert');\n",
              "        buttonEl.style.display =\n",
              "          google.colab.kernel.accessAllowed ? 'block' : 'none';\n",
              "\n",
              "        async function convertToInteractive(key) {\n",
              "          const element = document.querySelector('#df-4f15facc-5a6f-46e6-8541-55d60280874a');\n",
              "          const dataTable =\n",
              "            await google.colab.kernel.invokeFunction('convertToInteractive',\n",
              "                                                     [key], {});\n",
              "          if (!dataTable) return;\n",
              "\n",
              "          const docLinkHtml = 'Like what you see? Visit the ' +\n",
              "            '<a target=\"_blank\" href=https://colab.research.google.com/notebooks/data_table.ipynb>data table notebook</a>'\n",
              "            + ' to learn more about interactive tables.';\n",
              "          element.innerHTML = '';\n",
              "          dataTable['output_type'] = 'display_data';\n",
              "          await google.colab.output.renderOutput(dataTable, element);\n",
              "          const docLink = document.createElement('div');\n",
              "          docLink.innerHTML = docLinkHtml;\n",
              "          element.appendChild(docLink);\n",
              "        }\n",
              "      </script>\n",
              "    </div>\n",
              "  </div>\n",
              "  "
            ]
          },
          "metadata": {},
          "execution_count": 104
        }
      ],
      "source": [
        "#we are removing the square backets in the labels column\n",
        "\n",
        "df_emo['labels'] = df_emo['labels'].astype(str)\n",
        "df_emo['labels'] =  df_emo['labels'].apply(lambda x: x.replace('[','').replace(']',''))\n",
        "df_emo.head(5)"
      ]
    },
    {
      "cell_type": "code",
      "execution_count": null,
      "metadata": {
        "id": "ULSY_6WxO-tW"
      },
      "outputs": [],
      "source": [
        "#we are checking for each sentence how many labels are there.\n",
        "\n",
        "df_emo['List of classes'] = df_emo['labels'].apply(lambda x: x.split(','))\n",
        "df_emo['Len of classes'] = df_emo['List of classes'].apply(lambda x: len(x))\n",
        "print(f\"max len of classes: {df_emo['Len of classes'].max()}\")"
      ]
    },
    {
      "cell_type": "code",
      "execution_count": 26,
      "metadata": {
        "id": "R5FaI5bsPO5F",
        "colab": {
          "base_uri": "https://localhost:8080/",
          "height": 447
        },
        "outputId": "4ae2bed0-a776-4c39-a6ff-0445ea7cc471"
      },
      "outputs": [
        {
          "output_type": "stream",
          "name": "stdout",
          "text": [
            "[45446, 8124, 655, 37, 1]\n"
          ]
        },
        {
          "output_type": "display_data",
          "data": {
            "text/plain": [
              "<Figure size 640x480 with 1 Axes>"
            ],
            "image/png": "[encoded data removed]"
          },
          "metadata": {}
        }
      ],
      "source": [
        "temp_df = df_emo[\"Len of classes\"].value_counts()\n",
        "print(temp_df.to_list())\n",
        "plt.bar(x=range(1,6), height=temp_df.to_list());"
      ]
    },
    {
      "cell_type": "code",
      "execution_count": null,
      "metadata": {
        "id": "yaS_nGWgPYfS"
      },
      "outputs": [],
      "source": [
        "#encoding each number with an emotion.\n",
        "\n",
        "df_emotions = {\n",
        "    'admiration' : '0',\n",
        "    'amusement' : '1',\n",
        "    'anger' : '2',\n",
        "    'annoyance' : '3',\n",
        "    'approval' : '4',\n",
        "    'caring' : '5',\n",
        "    'confusion' : '6',\n",
        "    'curiosity' : '7',\n",
        "    'desire' : '8',\n",
        "    'disappointment' : '9',\n",
        "    'disapproval' : '10',\n",
        "    'disgust' : '11',\n",
        "    'embarrassment' : '12',\n",
        "    'excitement' : '13',\n",
        "    'fear' : '14',\n",
        "    'gratitude' : '15',\n",
        "    'grief' : '16',\n",
        "    'joy' : '17',\n",
        "    'love' : '18',\n",
        "    'nervousness' : '19',\n",
        "    'optimism' : '20',\n",
        "    'pride' : '21',\n",
        "    'realization' : '22',\n",
        "    'relief' : '23',\n",
        "    'remorse' : '24',\n",
        "    'sadness' : '25',\n",
        "    'surprise' : '26',\n",
        "    'neutral' : '27'\n",
        "}\n",
        "\n",
        "df_emotions"
      ]
    },
    {
      "cell_type": "code",
      "execution_count": 28,
      "metadata": {
        "id": "_3CBCGnmPk_w",
        "colab": {
          "base_uri": "https://localhost:8080/",
          "height": 0
        },
        "outputId": "731f04a1-52c8-4502-e827-7434ee99c36a"
      },
      "outputs": [
        {
          "output_type": "execute_result",
          "data": {
            "text/plain": [
              "{'0': 'admiration',\n",
              " '1': 'amusement',\n",
              " '2': 'anger',\n",
              " '3': 'annoyance',\n",
              " '4': 'approval',\n",
              " '5': 'caring',\n",
              " '6': 'confusion',\n",
              " '7': 'curiosity',\n",
              " '8': 'desire',\n",
              " '9': 'disappointment',\n",
              " '10': 'disapproval',\n",
              " '11': 'disgust',\n",
              " '12': 'embarrassment',\n",
              " '13': 'excitement',\n",
              " '14': 'fear',\n",
              " '15': 'gratitude',\n",
              " '16': 'grief',\n",
              " '17': 'joy',\n",
              " '18': 'love',\n",
              " '19': 'nervousness',\n",
              " '20': 'optimism',\n",
              " '21': 'pride',\n",
              " '22': 'realization',\n",
              " '23': 'relief',\n",
              " '24': 'remorse',\n",
              " '25': 'sadness',\n",
              " '26': 'surprise',\n",
              " '27': 'neutral'}"
            ]
          },
          "metadata": {},
          "execution_count": 28
        }
      ],
      "source": [
        "df_emotions = {j:i for i, j in df_emotions.items()}\n",
        "df_emotions"
      ]
    },
    {
      "cell_type": "code",
      "source": [
        "rel_emotions=df_emo.labels.value_counts()[:14].index\n",
        "df_data=df_emo.loc[df_emo.labels.isin(rel_emotions)]"
      ],
      "metadata": {
        "id": "JTQCl_NcXOum"
      },
      "execution_count": 29,
      "outputs": []
    },
    {
      "cell_type": "code",
      "source": [
        "df_data.labels.value_counts()"
      ],
      "metadata": {
        "id": "rDMnDgyNXWjX"
      },
      "execution_count": null,
      "outputs": []
    },
    {
      "cell_type": "code",
      "source": [
        "#we are only considering this labels as mentioned in the course work.\n",
        "\n",
        "df_data['labels'].value_counts().plot(kind='bar')"
      ],
      "metadata": {
        "colab": {
          "base_uri": "https://localhost:8080/",
          "height": 451
        },
        "id": "I5Wh3Tzk33zE",
        "outputId": "9f453b80-3280-4308-cf4e-70f74238d8bf"
      },
      "execution_count": 31,
      "outputs": [
        {
          "output_type": "execute_result",
          "data": {
            "text/plain": [
              "<Axes: >"
            ]
          },
          "metadata": {},
          "execution_count": 31
        },
        {
          "output_type": "display_data",
          "data": {
            "text/plain": [
              "<Figure size 640x480 with 1 Axes>"
            ],
            "image/png": "[encoded data removed]"
          },
          "metadata": {}
        }
      ]
    },
    {
      "cell_type": "code",
      "execution_count": 32,
      "metadata": {
        "id": "6voL5U_bPmM_"
      },
      "outputs": [],
      "source": [
        "for i in df_emotions:\n",
        "    df_emo[df_emotions[i]] = df_emo['List of classes'].apply(lambda x: 1 if i in x else 0)"
      ]
    },
    {
      "cell_type": "code",
      "execution_count": 33,
      "metadata": {
        "id": "Vw1NG1rXQEjN"
      },
      "outputs": [],
      "source": [
        "df_emo.drop(['labels', 'id', 'List of classes', 'Len of classes'], axis=1, inplace =True)"
      ]
    },
    {
      "cell_type": "code",
      "execution_count": null,
      "metadata": {
        "id": "VYJh6v8uQJiC",
        "colab": {
          "base_uri": "https://localhost:8080/",
          "height": 1000
        },
        "outputId": "886af6a3-4fd0-483c-c91b-cb614abad7e0"
      },
      "outputs": [
        {
          "output_type": "execute_result",
          "data": {
            "text/plain": [
              "                                                   text  admiration  \\\n",
              "0     My favourite food is anything I didn't have to...           0   \n",
              "1     Now if he does off himself, everyone will thin...           0   \n",
              "2                        WHY THE FUCK IS BAYLESS ISOING           0   \n",
              "3                           To make her feel threatened           0   \n",
              "4                                Dirty Southern Wankers           0   \n",
              "...                                                 ...         ...   \n",
              "5421  It's pretty dangerous when the state decides w...           0   \n",
              "5422  I filed for divorce this morning. Hoping he mo...           0   \n",
              "5423  The last time it happened I just said, \"No\" an...           0   \n",
              "5424  I can’t stand this arrogant prick he’s no bett...           0   \n",
              "5425              ::but I like baby bangs:: /tiny voice           0   \n",
              "\n",
              "      amusement  anger  annoyance  approval  caring  confusion  curiosity  \\\n",
              "0             0      0          0         0       0          0          0   \n",
              "1             0      0          0         0       0          0          0   \n",
              "2             0      1          0         0       0          0          0   \n",
              "3             0      0          0         0       0          0          0   \n",
              "4             0      0          1         0       0          0          0   \n",
              "...         ...    ...        ...       ...     ...        ...        ...   \n",
              "5421          0      0          0         0       0          0          0   \n",
              "5422          0      0          0         0       0          0          0   \n",
              "5423          0      0          0         0       0          0          0   \n",
              "5424          0      0          1         0       0          0          0   \n",
              "5425          0      0          0         0       0          0          0   \n",
              "\n",
              "      desire  disappointment  disapproval  disgust  embarrassment  excitement  \\\n",
              "0          0               0            0        0              0           0   \n",
              "1          0               0            0        0              0           0   \n",
              "2          0               0            0        0              0           0   \n",
              "3          0               0            0        0              0           0   \n",
              "4          0               0            0        0              0           0   \n",
              "...      ...             ...          ...      ...            ...         ...   \n",
              "5421       0               0            0        0              0           0   \n",
              "5422       0               0            0        0              0           0   \n",
              "5423       0               0            1        0              0           0   \n",
              "5424       0               0            0        0              0           0   \n",
              "5425       0               0            0        0              0           0   \n",
              "\n",
              "      fear  gratitude  grief  joy  love  nervousness  optimism  pride  \\\n",
              "0        0          0      0    0     0            0         0      0   \n",
              "1        0          0      0    0     0            0         0      0   \n",
              "2        0          0      0    0     0            0         0      0   \n",
              "3        1          0      0    0     0            0         0      0   \n",
              "4        0          0      0    0     0            0         0      0   \n",
              "...    ...        ...    ...  ...   ...          ...       ...    ...   \n",
              "5421     1          0      0    0     0            0         0      0   \n",
              "5422     0          0      0    0     0            0         1      0   \n",
              "5423     0          0      0    0     0            0         0      0   \n",
              "5424     0          0      0    0     0            0         0      0   \n",
              "5425     0          0      0    0     1            0         0      0   \n",
              "\n",
              "      realization  relief  remorse  sadness  surprise  neutral  \n",
              "0               0       0        0        0         0        1  \n",
              "1               0       0        0        0         0        1  \n",
              "2               0       0        0        0         0        0  \n",
              "3               0       0        0        0         0        0  \n",
              "4               0       0        0        0         0        0  \n",
              "...           ...     ...      ...      ...       ...      ...  \n",
              "5421            0       0        0        0         0        0  \n",
              "5422            0       0        0        0         0        0  \n",
              "5423            0       0        0        0         0        0  \n",
              "5424            0       0        0        0         0        0  \n",
              "5425            0       0        0        0         0        0  \n",
              "\n",
              "[54263 rows x 29 columns]"
            ],
            "text/html": [
              "\n",
              "  <div id=\"df-cdc447a8-a205-432f-af80-50d0a1f6febd\">\n",
              "    <div class=\"colab-df-container\">\n",
              "      <div>\n",
              "<style scoped>\n",
              "    .dataframe tbody tr th:only-of-type {\n",
              "        vertical-align: middle;\n",
              "    }\n",
              "\n",
              "    .dataframe tbody tr th {\n",
              "        vertical-align: top;\n",
              "    }\n",
              "\n",
              "    .dataframe thead th {\n",
              "        text-align: right;\n",
              "    }\n",
              "</style>\n",
              "<table border=\"1\" class=\"dataframe\">\n",
              "  <thead>\n",
              "    <tr style=\"text-align: right;\">\n",
              "      <th></th>\n",
              "      <th>text</th>\n",
              "      <th>admiration</th>\n",
              "      <th>amusement</th>\n",
              "      <th>anger</th>\n",
              "      <th>annoyance</th>\n",
              "      <th>approval</th>\n",
              "      <th>caring</th>\n",
              "      <th>confusion</th>\n",
              "      <th>curiosity</th>\n",
              "      <th>desire</th>\n",
              "      <th>disappointment</th>\n",
              "      <th>disapproval</th>\n",
              "      <th>disgust</th>\n",
              "      <th>embarrassment</th>\n",
              "      <th>excitement</th>\n",
              "      <th>fear</th>\n",
              "      <th>gratitude</th>\n",
              "      <th>grief</th>\n",
              "      <th>joy</th>\n",
              "      <th>love</th>\n",
              "      <th>nervousness</th>\n",
              "      <th>optimism</th>\n",
              "      <th>pride</th>\n",
              "      <th>realization</th>\n",
              "      <th>relief</th>\n",
              "      <th>remorse</th>\n",
              "      <th>sadness</th>\n",
              "      <th>surprise</th>\n",
              "      <th>neutral</th>\n",
              "    </tr>\n",
              "  </thead>\n",
              "  <tbody>\n",
              "    <tr>\n",
              "      <th>0</th>\n",
              "      <td>My favourite food is anything I didn't have to...</td>\n",
              "      <td>0</td>\n",
              "      <td>0</td>\n",
              "      <td>0</td>\n",
              "      <td>0</td>\n",
              "      <td>0</td>\n",
              "      <td>0</td>\n",
              "      <td>0</td>\n",
              "      <td>0</td>\n",
              "      <td>0</td>\n",
              "      <td>0</td>\n",
              "      <td>0</td>\n",
              "      <td>0</td>\n",
              "      <td>0</td>\n",
              "      <td>0</td>\n",
              "      <td>0</td>\n",
              "      <td>0</td>\n",
              "      <td>0</td>\n",
              "      <td>0</td>\n",
              "      <td>0</td>\n",
              "      <td>0</td>\n",
              "      <td>0</td>\n",
              "      <td>0</td>\n",
              "      <td>0</td>\n",
              "      <td>0</td>\n",
              "      <td>0</td>\n",
              "      <td>0</td>\n",
              "      <td>0</td>\n",
              "      <td>1</td>\n",
              "    </tr>\n",
              "    <tr>\n",
              "      <th>1</th>\n",
              "      <td>Now if he does off himself, everyone will thin...</td>\n",
              "      <td>0</td>\n",
              "      <td>0</td>\n",
              "      <td>0</td>\n",
              "      <td>0</td>\n",
              "      <td>0</td>\n",
              "      <td>0</td>\n",
              "      <td>0</td>\n",
              "      <td>0</td>\n",
              "      <td>0</td>\n",
              "      <td>0</td>\n",
              "      <td>0</td>\n",
              "      <td>0</td>\n",
              "      <td>0</td>\n",
              "      <td>0</td>\n",
              "      <td>0</td>\n",
              "      <td>0</td>\n",
              "      <td>0</td>\n",
              "      <td>0</td>\n",
              "      <td>0</td>\n",
              "      <td>0</td>\n",
              "      <td>0</td>\n",
              "      <td>0</td>\n",
              "      <td>0</td>\n",
              "      <td>0</td>\n",
              "      <td>0</td>\n",
              "      <td>0</td>\n",
              "      <td>0</td>\n",
              "      <td>1</td>\n",
              "    </tr>\n",
              "    <tr>\n",
              "      <th>2</th>\n",
              "      <td>WHY THE FUCK IS BAYLESS ISOING</td>\n",
              "      <td>0</td>\n",
              "      <td>0</td>\n",
              "      <td>1</td>\n",
              "      <td>0</td>\n",
              "      <td>0</td>\n",
              "      <td>0</td>\n",
              "      <td>0</td>\n",
              "      <td>0</td>\n",
              "      <td>0</td>\n",
              "      <td>0</td>\n",
              "      <td>0</td>\n",
              "      <td>0</td>\n",
              "      <td>0</td>\n",
              "      <td>0</td>\n",
              "      <td>0</td>\n",
              "      <td>0</td>\n",
              "      <td>0</td>\n",
              "      <td>0</td>\n",
              "      <td>0</td>\n",
              "      <td>0</td>\n",
              "      <td>0</td>\n",
              "      <td>0</td>\n",
              "      <td>0</td>\n",
              "      <td>0</td>\n",
              "      <td>0</td>\n",
              "      <td>0</td>\n",
              "      <td>0</td>\n",
              "      <td>0</td>\n",
              "    </tr>\n",
              "    <tr>\n",
              "      <th>3</th>\n",
              "      <td>To make her feel threatened</td>\n",
              "      <td>0</td>\n",
              "      <td>0</td>\n",
              "      <td>0</td>\n",
              "      <td>0</td>\n",
              "      <td>0</td>\n",
              "      <td>0</td>\n",
              "      <td>0</td>\n",
              "      <td>0</td>\n",
              "      <td>0</td>\n",
              "      <td>0</td>\n",
              "      <td>0</td>\n",
              "      <td>0</td>\n",
              "      <td>0</td>\n",
              "      <td>0</td>\n",
              "      <td>1</td>\n",
              "      <td>0</td>\n",
              "      <td>0</td>\n",
              "      <td>0</td>\n",
              "      <td>0</td>\n",
              "      <td>0</td>\n",
              "      <td>0</td>\n",
              "      <td>0</td>\n",
              "      <td>0</td>\n",
              "      <td>0</td>\n",
              "      <td>0</td>\n",
              "      <td>0</td>\n",
              "      <td>0</td>\n",
              "      <td>0</td>\n",
              "    </tr>\n",
              "    <tr>\n",
              "      <th>4</th>\n",
              "      <td>Dirty Southern Wankers</td>\n",
              "      <td>0</td>\n",
              "      <td>0</td>\n",
              "      <td>0</td>\n",
              "      <td>1</td>\n",
              "      <td>0</td>\n",
              "      <td>0</td>\n",
              "      <td>0</td>\n",
              "      <td>0</td>\n",
              "      <td>0</td>\n",
              "      <td>0</td>\n",
              "      <td>0</td>\n",
              "      <td>0</td>\n",
              "      <td>0</td>\n",
              "      <td>0</td>\n",
              "      <td>0</td>\n",
              "      <td>0</td>\n",
              "      <td>0</td>\n",
              "      <td>0</td>\n",
              "      <td>0</td>\n",
              "      <td>0</td>\n",
              "      <td>0</td>\n",
              "      <td>0</td>\n",
              "      <td>0</td>\n",
              "      <td>0</td>\n",
              "      <td>0</td>\n",
              "      <td>0</td>\n",
              "      <td>0</td>\n",
              "      <td>0</td>\n",
              "    </tr>\n",
              "    <tr>\n",
              "      <th>...</th>\n",
              "      <td>...</td>\n",
              "      <td>...</td>\n",
              "      <td>...</td>\n",
              "      <td>...</td>\n",
              "      <td>...</td>\n",
              "      <td>...</td>\n",
              "      <td>...</td>\n",
              "      <td>...</td>\n",
              "      <td>...</td>\n",
              "      <td>...</td>\n",
              "      <td>...</td>\n",
              "      <td>...</td>\n",
              "      <td>...</td>\n",
              "      <td>...</td>\n",
              "      <td>...</td>\n",
              "      <td>...</td>\n",
              "      <td>...</td>\n",
              "      <td>...</td>\n",
              "      <td>...</td>\n",
              "      <td>...</td>\n",
              "      <td>...</td>\n",
              "      <td>...</td>\n",
              "      <td>...</td>\n",
              "      <td>...</td>\n",
              "      <td>...</td>\n",
              "      <td>...</td>\n",
              "      <td>...</td>\n",
              "      <td>...</td>\n",
              "      <td>...</td>\n",
              "    </tr>\n",
              "    <tr>\n",
              "      <th>5421</th>\n",
              "      <td>It's pretty dangerous when the state decides w...</td>\n",
              "      <td>0</td>\n",
              "      <td>0</td>\n",
              "      <td>0</td>\n",
              "      <td>0</td>\n",
              "      <td>0</td>\n",
              "      <td>0</td>\n",
              "      <td>0</td>\n",
              "      <td>0</td>\n",
              "      <td>0</td>\n",
              "      <td>0</td>\n",
              "      <td>0</td>\n",
              "      <td>0</td>\n",
              "      <td>0</td>\n",
              "      <td>0</td>\n",
              "      <td>1</td>\n",
              "      <td>0</td>\n",
              "      <td>0</td>\n",
              "      <td>0</td>\n",
              "      <td>0</td>\n",
              "      <td>0</td>\n",
              "      <td>0</td>\n",
              "      <td>0</td>\n",
              "      <td>0</td>\n",
              "      <td>0</td>\n",
              "      <td>0</td>\n",
              "      <td>0</td>\n",
              "      <td>0</td>\n",
              "      <td>0</td>\n",
              "    </tr>\n",
              "    <tr>\n",
              "      <th>5422</th>\n",
              "      <td>I filed for divorce this morning. Hoping he mo...</td>\n",
              "      <td>0</td>\n",
              "      <td>0</td>\n",
              "      <td>0</td>\n",
              "      <td>0</td>\n",
              "      <td>0</td>\n",
              "      <td>0</td>\n",
              "      <td>0</td>\n",
              "      <td>0</td>\n",
              "      <td>0</td>\n",
              "      <td>0</td>\n",
              "      <td>0</td>\n",
              "      <td>0</td>\n",
              "      <td>0</td>\n",
              "      <td>0</td>\n",
              "      <td>0</td>\n",
              "      <td>0</td>\n",
              "      <td>0</td>\n",
              "      <td>0</td>\n",
              "      <td>0</td>\n",
              "      <td>0</td>\n",
              "      <td>1</td>\n",
              "      <td>0</td>\n",
              "      <td>0</td>\n",
              "      <td>0</td>\n",
              "      <td>0</td>\n",
              "      <td>0</td>\n",
              "      <td>0</td>\n",
              "      <td>0</td>\n",
              "    </tr>\n",
              "    <tr>\n",
              "      <th>5423</th>\n",
              "      <td>The last time it happened I just said, \"No\" an...</td>\n",
              "      <td>0</td>\n",
              "      <td>0</td>\n",
              "      <td>0</td>\n",
              "      <td>0</td>\n",
              "      <td>0</td>\n",
              "      <td>0</td>\n",
              "      <td>0</td>\n",
              "      <td>0</td>\n",
              "      <td>0</td>\n",
              "      <td>0</td>\n",
              "      <td>1</td>\n",
              "      <td>0</td>\n",
              "      <td>0</td>\n",
              "      <td>0</td>\n",
              "      <td>0</td>\n",
              "      <td>0</td>\n",
              "      <td>0</td>\n",
              "      <td>0</td>\n",
              "      <td>0</td>\n",
              "      <td>0</td>\n",
              "      <td>0</td>\n",
              "      <td>0</td>\n",
              "      <td>0</td>\n",
              "      <td>0</td>\n",
              "      <td>0</td>\n",
              "      <td>0</td>\n",
              "      <td>0</td>\n",
              "      <td>0</td>\n",
              "    </tr>\n",
              "    <tr>\n",
              "      <th>5424</th>\n",
              "      <td>I can’t stand this arrogant prick he’s no bett...</td>\n",
              "      <td>0</td>\n",
              "      <td>0</td>\n",
              "      <td>0</td>\n",
              "      <td>1</td>\n",
              "      <td>0</td>\n",
              "      <td>0</td>\n",
              "      <td>0</td>\n",
              "      <td>0</td>\n",
              "      <td>0</td>\n",
              "      <td>0</td>\n",
              "      <td>0</td>\n",
              "      <td>0</td>\n",
              "      <td>0</td>\n",
              "      <td>0</td>\n",
              "      <td>0</td>\n",
              "      <td>0</td>\n",
              "      <td>0</td>\n",
              "      <td>0</td>\n",
              "      <td>0</td>\n",
              "      <td>0</td>\n",
              "      <td>0</td>\n",
              "      <td>0</td>\n",
              "      <td>0</td>\n",
              "      <td>0</td>\n",
              "      <td>0</td>\n",
              "      <td>0</td>\n",
              "      <td>0</td>\n",
              "      <td>0</td>\n",
              "    </tr>\n",
              "    <tr>\n",
              "      <th>5425</th>\n",
              "      <td>::but I like baby bangs:: /tiny voice</td>\n",
              "      <td>0</td>\n",
              "      <td>0</td>\n",
              "      <td>0</td>\n",
              "      <td>0</td>\n",
              "      <td>0</td>\n",
              "      <td>0</td>\n",
              "      <td>0</td>\n",
              "      <td>0</td>\n",
              "      <td>0</td>\n",
              "      <td>0</td>\n",
              "      <td>0</td>\n",
              "      <td>0</td>\n",
              "      <td>0</td>\n",
              "      <td>0</td>\n",
              "      <td>0</td>\n",
              "      <td>0</td>\n",
              "      <td>0</td>\n",
              "      <td>0</td>\n",
              "      <td>1</td>\n",
              "      <td>0</td>\n",
              "      <td>0</td>\n",
              "      <td>0</td>\n",
              "      <td>0</td>\n",
              "      <td>0</td>\n",
              "      <td>0</td>\n",
              "      <td>0</td>\n",
              "      <td>0</td>\n",
              "      <td>0</td>\n",
              "    </tr>\n",
              "  </tbody>\n",
              "</table>\n",
              "<p>54263 rows × 29 columns</p>\n",
              "</div>\n",
              "      <button class=\"colab-df-convert\" onclick=\"convertToInteractive('df-cdc447a8-a205-432f-af80-50d0a1f6febd')\"\n",
              "              title=\"Convert this dataframe to an interactive table.\"\n",
              "              style=\"display:none;\">\n",
              "        \n",
              "  <svg xmlns=\"http://www.w3.org/2000/svg\" height=\"24px\"viewBox=\"0 0 24 24\"\n",
              "       width=\"24px\">\n",
              "    <path d=\"M0 0h24v24H0V0z\" fill=\"none\"/>\n",
              "    <path d=\"M18.56 5.44l.94 2.06.94-2.06 2.06-.94-2.06-.94-.94-2.06-.94 2.06-2.06.94zm-11 1L8.5 8.5l.94-2.06 2.06-.94-2.06-.94L8.5 2.5l-.94 2.06-2.06.94zm10 10l.94 2.06.94-2.06 2.06-.94-2.06-.94-.94-2.06-.94 2.06-2.06.94z\"/><path d=\"M17.41 7.96l-1.37-1.37c-.4-.4-.92-.59-1.43-.59-.52 0-1.04.2-1.43.59L10.3 9.45l-7.72 7.72c-.78.78-.78 2.05 0 2.83L4 21.41c.39.39.9.59 1.41.59.51 0 1.02-.2 1.41-.59l7.78-7.78 2.81-2.81c.8-.78.8-2.07 0-2.86zM5.41 20L4 18.59l7.72-7.72 1.47 1.35L5.41 20z\"/>\n",
              "  </svg>\n",
              "      </button>\n",
              "      \n",
              "  <style>\n",
              "    .colab-df-container {\n",
              "      display:flex;\n",
              "      flex-wrap:wrap;\n",
              "      gap: 12px;\n",
              "    }\n",
              "\n",
              "    .colab-df-convert {\n",
              "      background-color: #E8F0FE;\n",
              "      border: none;\n",
              "      border-radius: 50%;\n",
              "      cursor: pointer;\n",
              "      display: none;\n",
              "      fill: #1967D2;\n",
              "      height: 32px;\n",
              "      padding: 0 0 0 0;\n",
              "      width: 32px;\n",
              "    }\n",
              "\n",
              "    .colab-df-convert:hover {\n",
              "      background-color: #E2EBFA;\n",
              "      box-shadow: 0px 1px 2px rgba(60, 64, 67, 0.3), 0px 1px 3px 1px rgba(60, 64, 67, 0.15);\n",
              "      fill: #174EA6;\n",
              "    }\n",
              "\n",
              "    [theme=dark] .colab-df-convert {\n",
              "      background-color: #3B4455;\n",
              "      fill: #D2E3FC;\n",
              "    }\n",
              "\n",
              "    [theme=dark] .colab-df-convert:hover {\n",
              "      background-color: #434B5C;\n",
              "      box-shadow: 0px 1px 3px 1px rgba(0, 0, 0, 0.15);\n",
              "      filter: drop-shadow(0px 1px 2px rgba(0, 0, 0, 0.3));\n",
              "      fill: #FFFFFF;\n",
              "    }\n",
              "  </style>\n",
              "\n",
              "      <script>\n",
              "        const buttonEl =\n",
              "          document.querySelector('#df-cdc447a8-a205-432f-af80-50d0a1f6febd button.colab-df-convert');\n",
              "        buttonEl.style.display =\n",
              "          google.colab.kernel.accessAllowed ? 'block' : 'none';\n",
              "\n",
              "        async function convertToInteractive(key) {\n",
              "          const element = document.querySelector('#df-cdc447a8-a205-432f-af80-50d0a1f6febd');\n",
              "          const dataTable =\n",
              "            await google.colab.kernel.invokeFunction('convertToInteractive',\n",
              "                                                     [key], {});\n",
              "          if (!dataTable) return;\n",
              "\n",
              "          const docLinkHtml = 'Like what you see? Visit the ' +\n",
              "            '<a target=\"_blank\" href=https://colab.research.google.com/notebooks/data_table.ipynb>data table notebook</a>'\n",
              "            + ' to learn more about interactive tables.';\n",
              "          element.innerHTML = '';\n",
              "          dataTable['output_type'] = 'display_data';\n",
              "          await google.colab.output.renderOutput(dataTable, element);\n",
              "          const docLink = document.createElement('div');\n",
              "          docLink.innerHTML = docLinkHtml;\n",
              "          element.appendChild(docLink);\n",
              "        }\n",
              "      </script>\n",
              "    </div>\n",
              "  </div>\n",
              "  "
            ]
          },
          "metadata": {},
          "execution_count": 87
        }
      ],
      "source": [
        "df_emo"
      ]
    },
    {
      "cell_type": "code",
      "execution_count": 34,
      "metadata": {
        "id": "iqsSyc_EVNJt"
      },
      "outputs": [],
      "source": [
        "df = df_emo[(df_emo[\"love\"]==1) |(df_emo[\"optimism\"]==1) | (df_emo[\"admiration\"]==1) |(df_emo[\"amusement\"]==1) | (df_emo[\"approval\"]==1) |(df_emo[\"annoyance\"]==1) |(df_emo[\"confusion\"]==1) |(df_emo[\"curiosity\"]==1)|(df_emo[\"joy\"]==1) | (df_emo[\"disapproval\"]==1) | (df_emo[\"gratitude\"]==1) | (df_emo[\"sadness\"]==1) | (df_emo[\"anger\"]==1) | (df_emo[\"neutral\"]==1)].loc[:,[\"text\",\"admiration\",\"amusement\",\"anger\",\"approval\",\"annoyance\",\"confusion\",\"curiosity\",\"disapproval\",\"gratitude\",\"joy\",\"love\",\"optimism\", \"sadness\", \"neutral\"]]\n",
        "df.reset_index(drop=True, inplace=True)"
      ]
    },
    {
      "cell_type": "code",
      "execution_count": null,
      "metadata": {
        "id": "UTyDdzsCQOZe"
      },
      "outputs": [],
      "source": [
        "df"
      ]
    },
    {
      "cell_type": "code",
      "execution_count": 36,
      "metadata": {
        "id": "P4DQ4bJljuH6",
        "colab": {
          "base_uri": "https://localhost:8080/",
          "height": 502
        },
        "outputId": "3ef97495-9a49-4fdd-f083-fd403b16e153"
      },
      "outputs": [
        {
          "output_type": "stream",
          "name": "stdout",
          "text": [
            "{'neutral': 16021, 'admiration': 5122, 'approval': 3269, 'amusement': 2793, 'gratitude': 2681, 'annoyance': 2671, 'curiosity': 2210, 'disapproval': 2117, 'anger': 1936, 'love': 1883, 'confusion': 1543, 'joy': 1250, 'optimism': 1227, 'sadness': 1067}\n"
          ]
        },
        {
          "output_type": "display_data",
          "data": {
            "text/plain": [
              "<Figure size 1500x500 with 1 Axes>"
            ],
            "image/png": "[encoded data removed]"
          },
          "metadata": {}
        }
      ],
      "source": [
        "temp_list = df.drop(['text'], axis=1).sum(axis=0).tolist()\n",
        "counts= dict(zip([\"admiration\",\"amusement\",\"anger\",\"approval\",\"annoyance\",\"confusion\",\"curiosity\",\"disapproval\",\"gratitude\",\"joy\",\"love\",\"optimism\", \"sadness\", \"neutral\"], temp_list))\n",
        "\n",
        "sorted_counts = dict(sorted(counts.items(), key=lambda item: item[1], reverse=True))\n",
        "print(sorted_counts)\n",
        "counts_df = pd.DataFrame(sorted_counts.items(), columns=[\"emotion\", \"count\"])\n",
        "plt.subplots(figsize=(15,5))\n",
        "sns.barplot(data = counts_df, x=\"emotion\", y=\"count\", order=counts_df['emotion']);"
      ]
    },
    {
      "cell_type": "code",
      "execution_count": null,
      "metadata": {
        "id": "XuhZLiJ7kRAQ"
      },
      "outputs": [],
      "source": [
        "filter_ = (df.drop(['text'], axis=1).sum(axis=1)>1) == True\n",
        "print(f\"sum of values where there is conflict: {filter_.sum()}\")\n",
        "# drop all rows where there is conflict\n",
        "df.drop(index = df.loc[filter_].index, inplace=True)"
      ]
    },
    {
      "cell_type": "code",
      "execution_count": 39,
      "metadata": {
        "id": "OqqYKMHwkrSR"
      },
      "outputs": [],
      "source": [
        "labels = [\"admiration\",\"amusement\",\"anger\",\"approval\",\"annoyance\",\"confusion\",\"curiosity\",\"disapproval\",\"gratitude\",\"joy\",\"love\",\"optimism\", \"sadness\", \"neutral\"]\n",
        "for index, row in df.iterrows():\n",
        "    df.loc[index,\"emotion\"] = labels[np.argmax(row.iloc[1:].tolist())]"
      ]
    },
    {
      "cell_type": "code",
      "execution_count": null,
      "metadata": {
        "id": "he8hlWQOk9Lw"
      },
      "outputs": [],
      "source": [
        "df"
      ]
    },
    {
      "cell_type": "code",
      "execution_count": 41,
      "metadata": {
        "id": "5eaD3bpYlBLH"
      },
      "outputs": [],
      "source": [
        "df_emotion=df"
      ]
    },
    {
      "cell_type": "code",
      "execution_count": null,
      "metadata": {
        "id": "ce0mMoaRlOEg"
      },
      "outputs": [],
      "source": [
        "#we are considering the emotion and text and we are removing the id as it is not relevant for modeling and evaluation part.\n",
        "df_emotion = df_emotion[[\"text\",\"emotion\"]]\n",
        "df_emotion"
      ]
    },
    {
      "cell_type": "code",
      "execution_count": 43,
      "metadata": {
        "id": "c972ZEnNlUfY",
        "colab": {
          "base_uri": "https://localhost:8080/",
          "height": 0
        },
        "outputId": "37ee796d-b972-461b-dc7c-209a85e80c69"
      },
      "outputs": [
        {
          "output_type": "stream",
          "name": "stdout",
          "text": [
            "neutral        16021\n",
            "admiration      5122\n",
            "approval        3269\n",
            "amusement       2793\n",
            "gratitude       2681\n",
            "annoyance       2671\n",
            "curiosity       2210\n",
            "disapproval     2117\n",
            "anger           1936\n",
            "love            1883\n",
            "confusion       1543\n",
            "joy             1250\n",
            "optimism        1227\n",
            "sadness         1067\n",
            "Name: emotion, dtype: int64\n"
          ]
        }
      ],
      "source": [
        "#total numbers of each label in the data set\n",
        "\n",
        "print(df_emotion['emotion'].value_counts())"
      ]
    },
    {
      "cell_type": "code",
      "execution_count": null,
      "metadata": {
        "id": "wbCPLQj0mS3K"
      },
      "outputs": [],
      "source": [
        "df_emotion.loc[:, 'emotion'] = df_emotion['emotion'].replace({'joy': 0, 'anger': 1, 'love': 2, 'sadness': 3, 'admiration': 4, 'approval': 5, 'amusement': 6, 'gratitude': 7, 'annoyance': 8, 'curiosity': 9, 'disapproval': 10, 'confusion': 11, 'optimism': 12, 'neutral': 13})\n",
        "\n",
        "\n",
        "df_emotion.head(5)"
      ]
    },
    {
      "cell_type": "code",
      "execution_count": 45,
      "metadata": {
        "id": "BJXNGfoDmdrL"
      },
      "outputs": [],
      "source": [
        "import re\n",
        "\n",
        "def preprocess_corpus(x):\n",
        "\n",
        "  # Adding a space between words and punctation\n",
        "  x = re.sub(r\"\\b([.]{3,})\",\" dots \", x)\n",
        "  x = re.sub(r\"[^A-Za-z!?_]+\",\" \", x)\n",
        "  x = re.sub(r\"\\b([s])\\b *\",\"\", x)\n",
        "  x = re.sub(r\" +\",\" \", x)\n",
        "  x = x.strip()\n",
        "\n",
        "\n",
        "  return x"
      ]
    },
    {
      "cell_type": "code",
      "execution_count": null,
      "metadata": {
        "id": "JsK427PGnwOw"
      },
      "outputs": [],
      "source": [
        "df_emotion[\"Clean_text\"] = df_emotion[\"text\"].apply(preprocess_corpus)\n",
        "\n",
        "# Preview of data\n",
        "display(df_emotion[['text', 'Clean_text']].sample(5))\n",
        "     "
      ]
    },
    {
      "cell_type": "code",
      "execution_count": 47,
      "metadata": {
        "id": "ej9JYlutoOub",
        "colab": {
          "base_uri": "https://localhost:8080/",
          "height": 143
        },
        "outputId": "3e8a612f-f7aa-4c34-e4e1-7ef157860af7"
      },
      "outputs": [
        {
          "output_type": "display_data",
          "data": {
            "text/plain": [
              "                                          Clean_text  emotion\n",
              "0  My favourite food is anything I didn t have to...       13\n",
              "1  Now if he does off himself everyone will think...       13\n",
              "2                     WHY THE FUCK IS BAYLESS ISOING        1"
            ],
            "text/html": [
              "\n",
              "  <div id=\"df-1da0d6a6-009e-4e8b-9a7d-5cabf7f56a26\">\n",
              "    <div class=\"colab-df-container\">\n",
              "      <div>\n",
              "<style scoped>\n",
              "    .dataframe tbody tr th:only-of-type {\n",
              "        vertical-align: middle;\n",
              "    }\n",
              "\n",
              "    .dataframe tbody tr th {\n",
              "        vertical-align: top;\n",
              "    }\n",
              "\n",
              "    .dataframe thead th {\n",
              "        text-align: right;\n",
              "    }\n",
              "</style>\n",
              "<table border=\"1\" class=\"dataframe\">\n",
              "  <thead>\n",
              "    <tr style=\"text-align: right;\">\n",
              "      <th></th>\n",
              "      <th>Clean_text</th>\n",
              "      <th>emotion</th>\n",
              "    </tr>\n",
              "  </thead>\n",
              "  <tbody>\n",
              "    <tr>\n",
              "      <th>0</th>\n",
              "      <td>My favourite food is anything I didn t have to...</td>\n",
              "      <td>13</td>\n",
              "    </tr>\n",
              "    <tr>\n",
              "      <th>1</th>\n",
              "      <td>Now if he does off himself everyone will think...</td>\n",
              "      <td>13</td>\n",
              "    </tr>\n",
              "    <tr>\n",
              "      <th>2</th>\n",
              "      <td>WHY THE FUCK IS BAYLESS ISOING</td>\n",
              "      <td>1</td>\n",
              "    </tr>\n",
              "  </tbody>\n",
              "</table>\n",
              "</div>\n",
              "      <button class=\"colab-df-convert\" onclick=\"convertToInteractive('df-1da0d6a6-009e-4e8b-9a7d-5cabf7f56a26')\"\n",
              "              title=\"Convert this dataframe to an interactive table.\"\n",
              "              style=\"display:none;\">\n",
              "        \n",
              "  <svg xmlns=\"http://www.w3.org/2000/svg\" height=\"24px\"viewBox=\"0 0 24 24\"\n",
              "       width=\"24px\">\n",
              "    <path d=\"M0 0h24v24H0V0z\" fill=\"none\"/>\n",
              "    <path d=\"M18.56 5.44l.94 2.06.94-2.06 2.06-.94-2.06-.94-.94-2.06-.94 2.06-2.06.94zm-11 1L8.5 8.5l.94-2.06 2.06-.94-2.06-.94L8.5 2.5l-.94 2.06-2.06.94zm10 10l.94 2.06.94-2.06 2.06-.94-2.06-.94-.94-2.06-.94 2.06-2.06.94z\"/><path d=\"M17.41 7.96l-1.37-1.37c-.4-.4-.92-.59-1.43-.59-.52 0-1.04.2-1.43.59L10.3 9.45l-7.72 7.72c-.78.78-.78 2.05 0 2.83L4 21.41c.39.39.9.59 1.41.59.51 0 1.02-.2 1.41-.59l7.78-7.78 2.81-2.81c.8-.78.8-2.07 0-2.86zM5.41 20L4 18.59l7.72-7.72 1.47 1.35L5.41 20z\"/>\n",
              "  </svg>\n",
              "      </button>\n",
              "      \n",
              "  <style>\n",
              "    .colab-df-container {\n",
              "      display:flex;\n",
              "      flex-wrap:wrap;\n",
              "      gap: 12px;\n",
              "    }\n",
              "\n",
              "    .colab-df-convert {\n",
              "      background-color: #E8F0FE;\n",
              "      border: none;\n",
              "      border-radius: 50%;\n",
              "      cursor: pointer;\n",
              "      display: none;\n",
              "      fill: #1967D2;\n",
              "      height: 32px;\n",
              "      padding: 0 0 0 0;\n",
              "      width: 32px;\n",
              "    }\n",
              "\n",
              "    .colab-df-convert:hover {\n",
              "      background-color: #E2EBFA;\n",
              "      box-shadow: 0px 1px 2px rgba(60, 64, 67, 0.3), 0px 1px 3px 1px rgba(60, 64, 67, 0.15);\n",
              "      fill: #174EA6;\n",
              "    }\n",
              "\n",
              "    [theme=dark] .colab-df-convert {\n",
              "      background-color: #3B4455;\n",
              "      fill: #D2E3FC;\n",
              "    }\n",
              "\n",
              "    [theme=dark] .colab-df-convert:hover {\n",
              "      background-color: #434B5C;\n",
              "      box-shadow: 0px 1px 3px 1px rgba(0, 0, 0, 0.15);\n",
              "      filter: drop-shadow(0px 1px 2px rgba(0, 0, 0, 0.3));\n",
              "      fill: #FFFFFF;\n",
              "    }\n",
              "  </style>\n",
              "\n",
              "      <script>\n",
              "        const buttonEl =\n",
              "          document.querySelector('#df-1da0d6a6-009e-4e8b-9a7d-5cabf7f56a26 button.colab-df-convert');\n",
              "        buttonEl.style.display =\n",
              "          google.colab.kernel.accessAllowed ? 'block' : 'none';\n",
              "\n",
              "        async function convertToInteractive(key) {\n",
              "          const element = document.querySelector('#df-1da0d6a6-009e-4e8b-9a7d-5cabf7f56a26');\n",
              "          const dataTable =\n",
              "            await google.colab.kernel.invokeFunction('convertToInteractive',\n",
              "                                                     [key], {});\n",
              "          if (!dataTable) return;\n",
              "\n",
              "          const docLinkHtml = 'Like what you see? Visit the ' +\n",
              "            '<a target=\"_blank\" href=https://colab.research.google.com/notebooks/data_table.ipynb>data table notebook</a>'\n",
              "            + ' to learn more about interactive tables.';\n",
              "          element.innerHTML = '';\n",
              "          dataTable['output_type'] = 'display_data';\n",
              "          await google.colab.output.renderOutput(dataTable, element);\n",
              "          const docLink = document.createElement('div');\n",
              "          docLink.innerHTML = docLinkHtml;\n",
              "          element.appendChild(docLink);\n",
              "        }\n",
              "      </script>\n",
              "    </div>\n",
              "  </div>\n",
              "  "
            ]
          },
          "metadata": {}
        }
      ],
      "source": [
        "df_emotion = df_emotion[ ['Clean_text'] + [ col for col in df_emotion.columns if col not in ['text', 'Clean_text'] ] ]\n",
        "\n",
        "# Preview of data   \n",
        "display(df_emotion.head(3))"
      ]
    },
    {
      "cell_type": "code",
      "source": [
        "df_emotion['Clean_text'] = df_emotion['Clean_text'].apply(lambda x: str(x))\n",
        "\n",
        "df_emotion['Clean_text'] = df_emotion['Clean_text'].apply(nltk.word_tokenize)\n",
        "\n",
        "lemmatizer = WordNetLemmatizer()\n",
        "\n",
        "# applying lemmatization to each word in the tokenized text\n",
        "df_emotion['Clean_text'] = df_emotion['Clean_text'].apply(lambda x: [lemmatizer.lemmatize(word) for word in x])\n",
        "\n",
        "stemmer = PorterStemmer()\n",
        "\n",
        "# applying stemming to each word in the tokenized text\n",
        "df_emotion['Clean_text'] = df_emotion['Clean_text'].apply(lambda x: [stemmer.stem(word) for word in x])\n",
        "\n",
        "# converting all words to lowercase\n",
        "df_emotion['Clean_text'] = df_emotion['Clean_text'].apply(lambda x: [word.lower() for word in x])\n",
        "\n",
        "# applying stopwords and join the words back into sentences\n",
        "stop_words = stopwords.words('english')\n",
        "df_emotion['Clean_text'] = df_emotion['Clean_text'].apply(lambda x: ' '.join([word for word in x if word not in stop_words]))\n",
        "\n",
        "df_emotion.head()\n",
        "\n"
      ],
      "metadata": {
        "id": "dfcxIWWmPQFs"
      },
      "execution_count": null,
      "outputs": []
    },
    {
      "cell_type": "code",
      "execution_count": null,
      "metadata": {
        "id": "1bgtbudGoWde"
      },
      "outputs": [],
      "source": [
        "df_emotion.info()"
      ]
    },
    {
      "cell_type": "code",
      "source": [
        "#vectorizing the input data.\n",
        "\n",
        "tfidf = TfidfVectorizer(ngram_range=(1, 1))\n",
        "X = tfidf.fit_transform(df_emotion['Clean_text'])"
      ],
      "metadata": {
        "id": "SPmUe9fm_e3Y"
      },
      "execution_count": 61,
      "outputs": []
    },
    {
      "cell_type": "code",
      "source": [
        "#final clean text data after removing the stop words etc.\n",
        "df_emotion.head(5)"
      ],
      "metadata": {
        "colab": {
          "base_uri": "https://localhost:8080/",
          "height": 206
        },
        "id": "r5h82HI0CVlD",
        "outputId": "3d95b19d-1b9f-4737-b5d1-282627277fcc"
      },
      "execution_count": 51,
      "outputs": [
        {
          "output_type": "execute_result",
          "data": {
            "text/plain": [
              "                                          Clean_text  emotion\n",
              "0                           favourit food anyth cook       13\n",
              "1  doe everyon think laugh screw peopl instead ac...       13\n",
              "2                               whi fuck bayless iso        1\n",
              "3                              dirti southern wanker        8\n",
              "4  ye heard abt f bomb ! ha whi thank repli hubbi...        7"
            ],
            "text/html": [
              "\n",
              "  <div id=\"df-3b3125b2-99bc-436e-866b-40797a7a7b3f\">\n",
              "    <div class=\"colab-df-container\">\n",
              "      <div>\n",
              "<style scoped>\n",
              "    .dataframe tbody tr th:only-of-type {\n",
              "        vertical-align: middle;\n",
              "    }\n",
              "\n",
              "    .dataframe tbody tr th {\n",
              "        vertical-align: top;\n",
              "    }\n",
              "\n",
              "    .dataframe thead th {\n",
              "        text-align: right;\n",
              "    }\n",
              "</style>\n",
              "<table border=\"1\" class=\"dataframe\">\n",
              "  <thead>\n",
              "    <tr style=\"text-align: right;\">\n",
              "      <th></th>\n",
              "      <th>Clean_text</th>\n",
              "      <th>emotion</th>\n",
              "    </tr>\n",
              "  </thead>\n",
              "  <tbody>\n",
              "    <tr>\n",
              "      <th>0</th>\n",
              "      <td>favourit food anyth cook</td>\n",
              "      <td>13</td>\n",
              "    </tr>\n",
              "    <tr>\n",
              "      <th>1</th>\n",
              "      <td>doe everyon think laugh screw peopl instead ac...</td>\n",
              "      <td>13</td>\n",
              "    </tr>\n",
              "    <tr>\n",
              "      <th>2</th>\n",
              "      <td>whi fuck bayless iso</td>\n",
              "      <td>1</td>\n",
              "    </tr>\n",
              "    <tr>\n",
              "      <th>3</th>\n",
              "      <td>dirti southern wanker</td>\n",
              "      <td>8</td>\n",
              "    </tr>\n",
              "    <tr>\n",
              "      <th>4</th>\n",
              "      <td>ye heard abt f bomb ! ha whi thank repli hubbi...</td>\n",
              "      <td>7</td>\n",
              "    </tr>\n",
              "  </tbody>\n",
              "</table>\n",
              "</div>\n",
              "      <button class=\"colab-df-convert\" onclick=\"convertToInteractive('df-3b3125b2-99bc-436e-866b-40797a7a7b3f')\"\n",
              "              title=\"Convert this dataframe to an interactive table.\"\n",
              "              style=\"display:none;\">\n",
              "        \n",
              "  <svg xmlns=\"http://www.w3.org/2000/svg\" height=\"24px\"viewBox=\"0 0 24 24\"\n",
              "       width=\"24px\">\n",
              "    <path d=\"M0 0h24v24H0V0z\" fill=\"none\"/>\n",
              "    <path d=\"M18.56 5.44l.94 2.06.94-2.06 2.06-.94-2.06-.94-.94-2.06-.94 2.06-2.06.94zm-11 1L8.5 8.5l.94-2.06 2.06-.94-2.06-.94L8.5 2.5l-.94 2.06-2.06.94zm10 10l.94 2.06.94-2.06 2.06-.94-2.06-.94-.94-2.06-.94 2.06-2.06.94z\"/><path d=\"M17.41 7.96l-1.37-1.37c-.4-.4-.92-.59-1.43-.59-.52 0-1.04.2-1.43.59L10.3 9.45l-7.72 7.72c-.78.78-.78 2.05 0 2.83L4 21.41c.39.39.9.59 1.41.59.51 0 1.02-.2 1.41-.59l7.78-7.78 2.81-2.81c.8-.78.8-2.07 0-2.86zM5.41 20L4 18.59l7.72-7.72 1.47 1.35L5.41 20z\"/>\n",
              "  </svg>\n",
              "      </button>\n",
              "      \n",
              "  <style>\n",
              "    .colab-df-container {\n",
              "      display:flex;\n",
              "      flex-wrap:wrap;\n",
              "      gap: 12px;\n",
              "    }\n",
              "\n",
              "    .colab-df-convert {\n",
              "      background-color: #E8F0FE;\n",
              "      border: none;\n",
              "      border-radius: 50%;\n",
              "      cursor: pointer;\n",
              "      display: none;\n",
              "      fill: #1967D2;\n",
              "      height: 32px;\n",
              "      padding: 0 0 0 0;\n",
              "      width: 32px;\n",
              "    }\n",
              "\n",
              "    .colab-df-convert:hover {\n",
              "      background-color: #E2EBFA;\n",
              "      box-shadow: 0px 1px 2px rgba(60, 64, 67, 0.3), 0px 1px 3px 1px rgba(60, 64, 67, 0.15);\n",
              "      fill: #174EA6;\n",
              "    }\n",
              "\n",
              "    [theme=dark] .colab-df-convert {\n",
              "      background-color: #3B4455;\n",
              "      fill: #D2E3FC;\n",
              "    }\n",
              "\n",
              "    [theme=dark] .colab-df-convert:hover {\n",
              "      background-color: #434B5C;\n",
              "      box-shadow: 0px 1px 3px 1px rgba(0, 0, 0, 0.15);\n",
              "      filter: drop-shadow(0px 1px 2px rgba(0, 0, 0, 0.3));\n",
              "      fill: #FFFFFF;\n",
              "    }\n",
              "  </style>\n",
              "\n",
              "      <script>\n",
              "        const buttonEl =\n",
              "          document.querySelector('#df-3b3125b2-99bc-436e-866b-40797a7a7b3f button.colab-df-convert');\n",
              "        buttonEl.style.display =\n",
              "          google.colab.kernel.accessAllowed ? 'block' : 'none';\n",
              "\n",
              "        async function convertToInteractive(key) {\n",
              "          const element = document.querySelector('#df-3b3125b2-99bc-436e-866b-40797a7a7b3f');\n",
              "          const dataTable =\n",
              "            await google.colab.kernel.invokeFunction('convertToInteractive',\n",
              "                                                     [key], {});\n",
              "          if (!dataTable) return;\n",
              "\n",
              "          const docLinkHtml = 'Like what you see? Visit the ' +\n",
              "            '<a target=\"_blank\" href=https://colab.research.google.com/notebooks/data_table.ipynb>data table notebook</a>'\n",
              "            + ' to learn more about interactive tables.';\n",
              "          element.innerHTML = '';\n",
              "          dataTable['output_type'] = 'display_data';\n",
              "          await google.colab.output.renderOutput(dataTable, element);\n",
              "          const docLink = document.createElement('div');\n",
              "          docLink.innerHTML = docLinkHtml;\n",
              "          element.appendChild(docLink);\n",
              "        }\n",
              "      </script>\n",
              "    </div>\n",
              "  </div>\n",
              "  "
            ]
          },
          "metadata": {},
          "execution_count": 51
        }
      ]
    },
    {
      "cell_type": "code",
      "source": [
        "#Max words in the sentence is less then 30 words\n",
        "\n",
        "\n",
        "plt.hist([ len(nltk.word_tokenize(sentence)) for sentence in df_emotion['Clean_text'].to_list()],bins=range(0,40,2))\n",
        "plt.show()"
      ],
      "metadata": {
        "colab": {
          "base_uri": "https://localhost:8080/",
          "height": 430
        },
        "id": "_Ja9cpf8Fv74",
        "outputId": "01b6b0e1-0e2a-455d-c889-8753aebc117a"
      },
      "execution_count": 54,
      "outputs": [
        {
          "output_type": "display_data",
          "data": {
            "text/plain": [
              "<Figure size 640x480 with 1 Axes>"
            ],
            "image/png": "[encoded data removed]"
          },
          "metadata": {}
        }
      ]
    },
    {
      "cell_type": "code",
      "source": [
        "#we tested the test with 30 percent and 20 percent .\n",
        "\n",
        "X_train, X_test, y_train, y_test = train_test_split(X,df_emotion['emotion'], test_size=0.30,random_state=42)\n"
      ],
      "metadata": {
        "id": "tHZboJTxDUD3"
      },
      "execution_count": 62,
      "outputs": []
    },
    {
      "cell_type": "code",
      "source": [
        "print(\"X_train \",X_train.shape)\n",
        "\n",
        "# print the shape of 'x_test'\n",
        "print(\"X_test \",X_test.shape)\n",
        "\n",
        "# print the shape of 'y_train'\n",
        "print(\"y_train \",y_train.shape)\n",
        "\n",
        "# print the shape of 'y_test'\n",
        "print(\"y_test \",y_test.shape)"
      ],
      "metadata": {
        "colab": {
          "base_uri": "https://localhost:8080/",
          "height": 0
        },
        "id": "nalc-wunFphc",
        "outputId": "6fdc5c3e-2688-4967-9e6e-af6fce8f0d0f"
      },
      "execution_count": 63,
      "outputs": [
        {
          "output_type": "stream",
          "name": "stdout",
          "text": [
            "X_train  (32053, 18172)\n",
            "X_test  (13737, 18172)\n",
            "y_train  (32053,)\n",
            "y_test  (13737,)\n"
          ]
        }
      ]
    },
    {
      "cell_type": "code",
      "source": [
        "model = MultinomialNB().fit(X_train, y_train)\n",
        "predicted = model.predict(X_test)\n",
        "print(\"NB:\", metrics.accuracy_score(y_test, predicted))\n",
        "\n",
        "\n",
        "#Evaluating the performance of the model.\n",
        "\n",
        "confusion_matrix = metrics.confusion_matrix(y_test, predicted)\n",
        "print(confusion_matrix)\n",
        "precision = metrics.precision_score(y_test, predicted, average='macro')\n",
        "print(precision)\n",
        "recall = metrics.recall_score(y_test, predicted, average='macro')\n",
        "print(recall)\n",
        "f1 = metrics.f1_score(y_test, predicted, average='macro')\n",
        "print(f1)"
      ],
      "metadata": {
        "id": "wFNaN-S2SnPj",
        "colab": {
          "base_uri": "https://localhost:8080/",
          "height": 0
        },
        "outputId": "dd1e8edc-2a8c-4d71-ea46-2d8aa33c3986"
      },
      "execution_count": 64,
      "outputs": [
        {
          "output_type": "stream",
          "name": "stdout",
          "text": [
            "NB: 0.3939724830749072\n",
            "[[   4    0    0    0   30    2    4    1    0    0    0    0    0  359]\n",
            " [   0    8    0    0    0    0    0    4    1    0    0    0    0  526]\n",
            " [   0    0   11    0   14    0    1    0    0    0    0    0    0  543]\n",
            " [   0    0    0    2    1    0    0    0    0    0    0    0    0  332]\n",
            " [   0    0    1    0  405    0    0   13    0    0    0    0    0 1137]\n",
            " [   0    0    0    0    8   10    2    2    0    0    0    0    0  971]\n",
            " [   0    0    0    0   11    0   38    1    0    0    0    0    0  782]\n",
            " [   1    0    0    0   58    0    3  173    0    0    0    0    0  532]\n",
            " [   0    0    0    0    0    0    1    2    1    0    0    0    0  813]\n",
            " [   0    0    0    0    3    0    1    0    0    3    0    0    0  648]\n",
            " [   0    0    1    0    4    0    2    0    0    0    0    0    0  646]\n",
            " [   0    0    0    0    0    0    0    1    0    0    0    2    0  447]\n",
            " [   0    0    0    0   10    0    0    1    0    0    0    0    1  384]\n",
            " [   1    0    0    0   13    3    1    3    0    0    0    0    0 4754]]\n",
            "0.7395389817111626\n",
            "0.11429292851605474\n",
            "0.10780689418895754\n"
          ]
        }
      ]
    },
    {
      "cell_type": "code",
      "source": [
        "print(classification_report(y_test,predicted))"
      ],
      "metadata": {
        "colab": {
          "base_uri": "https://localhost:8080/",
          "height": 0
        },
        "id": "4Zn3RR5CVTJ3",
        "outputId": "3d6abd74-a7d6-4ba5-8b8d-b686166dfc5c"
      },
      "execution_count": 65,
      "outputs": [
        {
          "output_type": "stream",
          "name": "stdout",
          "text": [
            "              precision    recall  f1-score   support\n",
            "\n",
            "           0       0.67      0.01      0.02       400\n",
            "           1       1.00      0.01      0.03       539\n",
            "           2       0.85      0.02      0.04       569\n",
            "           3       1.00      0.01      0.01       335\n",
            "           4       0.73      0.26      0.38      1556\n",
            "           5       0.67      0.01      0.02       993\n",
            "           6       0.72      0.05      0.09       832\n",
            "           7       0.86      0.23      0.36       767\n",
            "           8       0.50      0.00      0.00       817\n",
            "           9       1.00      0.00      0.01       655\n",
            "          10       0.00      0.00      0.00       653\n",
            "          11       1.00      0.00      0.01       450\n",
            "          12       1.00      0.00      0.01       396\n",
            "          13       0.37      1.00      0.54      4775\n",
            "\n",
            "    accuracy                           0.39     13737\n",
            "   macro avg       0.74      0.11      0.11     13737\n",
            "weighted avg       0.61      0.39      0.26     13737\n",
            "\n"
          ]
        }
      ]
    },
    {
      "cell_type": "code",
      "source": [
        "model = DecisionTreeClassifier()\n",
        "model.fit(X_train, y_train)\n",
        "\n",
        "predicted = model.predict(X_test)\n",
        "\n",
        "print(\"DecisionTreeClassifier:\", metrics.accuracy_score(y_test, predicted))\n",
        "\n",
        "#Evaluating the performance of the model.\n",
        "\n",
        "confusion_matrix = metrics.confusion_matrix(y_test, predicted)\n",
        "print(confusion_matrix)\n",
        "precision = metrics.precision_score(y_test, predicted, average='macro')\n",
        "print(precision)\n",
        "recall = metrics.recall_score(y_test, predicted, average='macro')\n",
        "print(recall)\n",
        "f1 = metrics.f1_score(y_test, predicted, average='macro')\n",
        "print(f1)"
      ],
      "metadata": {
        "id": "krpjHvt6StBa",
        "colab": {
          "base_uri": "https://localhost:8080/",
          "height": 0
        },
        "outputId": "10ffbc1a-0093-4760-c49a-805ffeceb0ea"
      },
      "execution_count": 66,
      "outputs": [
        {
          "output_type": "stream",
          "name": "stdout",
          "text": [
            "DecisionTreeClassifier: 0.4896265560165975\n",
            "[[ 164    0   19    6   49   13   34   13    9   11    3    4    6   69]\n",
            " [   5  212    6    9   12   15    2    4   72   10   17   12    7  156]\n",
            " [  12    3  363    0   54   20    6    2   12   10    7    4    6   70]\n",
            " [   5    4    3  128   12   16    6    3   21   12    5    5    8  107]\n",
            " [  39   17   78   10  899   51   35   59   34   31   24   19   22  238]\n",
            " [  21   16   26   12   81  178   20   19   36   40   33   22   37  452]\n",
            " [  10   10   14    6   47    9  606   10   12   11    9    4    6   78]\n",
            " [  17    3    4    1   55   13   17  602    8    4    4    2   15   22]\n",
            " [   7   96    9   11   39   51   22    6  140   21   30   21    9  355]\n",
            " [   4   13   11   15   53   45    3    4   33   91   25   28    9  321]\n",
            " [   3   23   12   22   41   46   15    8   39   22   55   18    7  342]\n",
            " [   4   13    8   12   16   33    6    7   27   21   15   61    1  226]\n",
            " [  12    2    4    3   24   26    7    8    5    6   15    4  179  101]\n",
            " [  57  138   68   78  233  272   93   20  217  182  171  135   63 3048]]\n",
            "0.4167642432623097\n",
            "0.40814632826511593\n",
            "0.41064912420514105\n"
          ]
        }
      ]
    },
    {
      "cell_type": "code",
      "source": [
        "print(classification_report(y_test,predicted))"
      ],
      "metadata": {
        "colab": {
          "base_uri": "https://localhost:8080/"
        },
        "id": "QXGK0aGOVZLg",
        "outputId": "eef29a6a-32b1-4759-c08b-b1c9dc695aa3"
      },
      "execution_count": null,
      "outputs": [
        {
          "output_type": "stream",
          "name": "stdout",
          "text": [
            "              precision    recall  f1-score   support\n",
            "\n",
            "           0       0.45      0.41      0.43       400\n",
            "           1       0.37      0.40      0.39       539\n",
            "           2       0.59      0.63      0.61       569\n",
            "           3       0.40      0.37      0.39       335\n",
            "           4       0.56      0.58      0.57      1556\n",
            "           5       0.23      0.19      0.21       993\n",
            "           6       0.68      0.74      0.71       832\n",
            "           7       0.79      0.77      0.78       767\n",
            "           8       0.22      0.18      0.20       817\n",
            "           9       0.20      0.14      0.16       655\n",
            "          10       0.13      0.08      0.10       653\n",
            "          11       0.19      0.13      0.15       450\n",
            "          12       0.50      0.47      0.48       396\n",
            "          13       0.55      0.64      0.59      4775\n",
            "\n",
            "    accuracy                           0.49     13737\n",
            "   macro avg       0.42      0.41      0.41     13737\n",
            "weighted avg       0.47      0.49      0.48     13737\n",
            "\n"
          ]
        }
      ]
    },
    {
      "cell_type": "code",
      "source": [
        "#In MLP classifier we test with 40,60 and 100 neurons and also we used activation function relu and tanh.\n",
        "#for optimization part adam\n",
        "\n",
        "clf = MLPClassifier(hidden_layer_sizes=(40,), activation='relu', solver='adam', max_iter=100)\n",
        "clf.fit(X_train, y_train)\n",
        "\n",
        "# make predictions on testing set\n",
        "y_pred = clf.predict(X_test)\n",
        "\n",
        "# evaluate model performance\n",
        "print(\"Accuracy:\", accuracy_score(y_test, y_pred))\n",
        "confusion_matrix = metrics.confusion_matrix(y_test, y_pred)\n",
        "print(confusion_matrix)\n",
        "print(\"Precision:\", precision_score(y_test, y_pred,average='macro'))\n",
        "print(\"Recall:\", recall_score(y_test, y_pred,average='macro'))\n",
        "print(\"F1 score:\", f1_score(y_test, y_pred,average='macro'))"
      ],
      "metadata": {
        "colab": {
          "base_uri": "https://localhost:8080/"
        },
        "id": "dnp7wQtQTXVG",
        "outputId": "d6bfeecd-14c4-4600-b8cc-ac89d15dc65f"
      },
      "execution_count": null,
      "outputs": [
        {
          "metadata": {
            "tags": null
          },
          "name": "stdout",
          "output_type": "stream",
          "text": [
            "Accuracy: 0.41180752711654656\n",
            "[[  94    5   10    4   56   35   23    9   21   11   14    8   14   96]\n",
            " [   3  152    6    5   16   19    1    4   96   28   19    6    6  178]\n",
            " [  14   13  234    4   53   34    8    5   16   30   26    8    5  119]\n",
            " [   4    5    7   76   11   25    6    5   26   16   21    6    5  122]\n",
            " [  37   12   38    5  801   99   24   65   34   43   47   20   20  311]\n",
            " [  18   17   11    6   65  200    9   16   49   49   64   48   20  421]\n",
            " [  27   11   14    6   43   24  395   13   46   16   31   14    7  185]\n",
            " [  19    3    7    3   76   33   11  486   17   21   10   10    9   62]\n",
            " [   6   72   10    6   36   35   14    7  142   37   58   24    4  366]\n",
            " [   7   22    8   10   31   55   10    5   28   90   40   29    9  311]\n",
            " [   6   21   10    5   31   65   13    3   37   44   73   17   10  318]\n",
            " [   4    8    7    4   14   27    5    4   31   36   21   54    5  230]\n",
            " [   5    7    7    4   34   21    4    5   12   16   18    5  133  125]\n",
            " [  53  142   66   52  213  387   64   27  280  268  238  174   84 2727]]\n",
            "Precision: 0.3667702354646255\n",
            "Recall: 0.31640476372970255\n",
            "F1 score: 0.3367661623236768\n"
          ]
        }
      ]
    },
    {
      "cell_type": "code",
      "source": [
        "print(classification_report(y_test,predicted))"
      ],
      "metadata": {
        "colab": {
          "base_uri": "https://localhost:8080/"
        },
        "id": "BNvYK0ehZeon",
        "outputId": "835f9556-d3c6-4cb4-8f7e-e67bc39c3c4d"
      },
      "execution_count": null,
      "outputs": [
        {
          "output_type": "stream",
          "name": "stdout",
          "text": [
            "              precision    recall  f1-score   support\n",
            "\n",
            "           1       0.56      0.47      0.51       400\n",
            "           2       0.52      0.40      0.45       539\n",
            "           3       0.63      0.78      0.69       569\n",
            "           4       0.59      0.39      0.47       335\n",
            "           5       0.66      0.62      0.64      1556\n",
            "           6       0.50      0.11      0.18       993\n",
            "           7       0.73      0.81      0.77       832\n",
            "           8       0.80      0.84      0.82       767\n",
            "           9       0.42      0.14      0.21       817\n",
            "          10       0.64      0.08      0.14       655\n",
            "          11       0.42      0.02      0.04       653\n",
            "          12       0.59      0.08      0.13       450\n",
            "          13       0.66      0.56      0.61       396\n",
            "          14       0.53      0.88      0.67      4775\n",
            "\n",
            "    accuracy                           0.58     13737\n",
            "   macro avg       0.59      0.44      0.45     13737\n",
            "weighted avg       0.58      0.58      0.53     13737\n",
            "\n"
          ]
        }
      ]
    },
    {
      "cell_type": "code",
      "source": [
        "svm_model = SVC(kernel='linear')\n",
        "svm_model.fit(X_train, y_train)\n",
        "\n",
        "# predict the labels of test data\n",
        "predicted = svm_model.predict(X_test)\n",
        "\n",
        "# evaluate the performance of the model\n",
        "print(\"SVM:\", metrics.accuracy_score(y_test, predicted))\n",
        "\n",
        "confusion_matrix = metrics.confusion_matrix(y_test, predicted)\n",
        "print(confusion_matrix)\n",
        "\n",
        "precision = metrics.precision_score(y_test, predicted, average='macro')\n",
        "print(precision)\n",
        "\n",
        "recall = metrics.recall_score(y_test, predicted, average='macro')\n",
        "print(recall)\n",
        "\n",
        "f1 = metrics.f1_score(y_test, predicted, average='macro')\n",
        "print(f1)"
      ],
      "metadata": {
        "colab": {
          "base_uri": "https://localhost:8080/"
        },
        "id": "5jaSzXIu6usA",
        "outputId": "18f0f32c-a454-465b-899c-75d96953c63e"
      },
      "execution_count": null,
      "outputs": [
        {
          "output_type": "stream",
          "name": "stdout",
          "text": [
            "SVM: 0.583824706995705\n",
            "[[ 187    0   22    2   50    2   37    6    0    0    0    0    6   88]\n",
            " [   1  215    6    4    6    3    5    6   58    0    0    0    3  232]\n",
            " [   5    3  443    1   32    0    2    1    2    0    0    0    4   76]\n",
            " [   3    1    2  131    4    0    7    0    1    0    0    0    6  180]\n",
            " [  26   11   90   10  963   12   41   65   11   10    1    1   17  298]\n",
            " [  18    4   32    2   70  112   20   16    8    5    3    3   21  679]\n",
            " [   9    2   18    2   19    3  672   16    3    1    1    2    7   77]\n",
            " [  22    1    4    0   44    4    7  648    0    0    0    0   16   21]\n",
            " [   5   66    6    7   23    6   20   11  112    1    4    0    5  551]\n",
            " [   8   10   12   10   36   10    3    4    7   53    2    1    5  494]\n",
            " [   3   16   12   15   34   12   17    6   13    1   13    3    3  505]\n",
            " [   7    9    9    8   12    6    8    7    3    2    1   34    0  344]\n",
            " [   6    3    1    2   20    2   10    3    5    0    0    0  222  122]\n",
            " [  33   75   50   27  139   50   72   16   46   10    6   14   22 4215]]\n",
            "0.5895762477370312\n",
            "0.44121515424168434\n",
            "0.45252638145813384\n"
          ]
        }
      ]
    },
    {
      "cell_type": "code",
      "source": [
        "#We tokenizing the text into sequences of integers and padding the sequences \n",
        "#with zeros so that they can be used as input to a neural network. \n",
        "#The maximum vocabulary size is set to 25000, and the maximum sequence length is set to 48 words.\n",
        "\n",
        "max_features = 25000\n",
        "tokenizer = Tokenizer(num_words=max_features, split=' ')\n",
        "tokenizer.fit_on_texts(df_emotion['Clean_text'].values)\n",
        "X = tokenizer.texts_to_sequences(df_emotion['Clean_text'].values)\n",
        "X = pad_sequences(X, maxlen=48) # pad sequences to a fixed length of 100\n",
        "print(X)"
      ],
      "metadata": {
        "colab": {
          "base_uri": "https://localhost:8080/",
          "height": 0
        },
        "id": "PjDbqUUwPLAO",
        "outputId": "98c352c4-bd22-422d-e516-519a92c67051"
      },
      "execution_count": 86,
      "outputs": [
        {
          "output_type": "stream",
          "name": "stdout",
          "text": [
            "[[   0    0    0 ...  370  120 1274]\n",
            " [   0    0    0 ...  338   51  450]\n",
            " [   0    0    0 ...   43 5849 5066]\n",
            " ...\n",
            " [   0    0    0 ...   91  277  856]\n",
            " [   0    0    0 ... 2332   39 9343]\n",
            " [   0    0    0 ... 1494 1642  846]]\n"
          ]
        }
      ]
    },
    {
      "cell_type": "code",
      "source": [
        "num_classes = 14\n",
        "y = to_categorical(df_emotion['emotion'].values, num_classes=num_classes)\n"
      ],
      "metadata": {
        "id": "iavYcCFFS7Z3"
      },
      "execution_count": 87,
      "outputs": []
    },
    {
      "cell_type": "code",
      "source": [
        "#we tested and split the data in combination of 70 -30 and 80 -20\n",
        "X_train, X_test, y_train, y_test = train_test_split(X,y, test_size=0.30,random_state=42)\n"
      ],
      "metadata": {
        "id": "x24apdTYBCJj"
      },
      "execution_count": null,
      "outputs": []
    },
    {
      "cell_type": "code",
      "source": [
        "#we used pre-trained word embeddings from the Google News Word2Vec model\n",
        "#trainable argument is set to False to ensure that the Word2Vec vectors are not updated during training.\n",
        "\n",
        "import gensim.downloader as api\n",
        "word2vec = api.load('word2vec-google-news-300')\n",
        "\n",
        "vector_size = 300\n",
        "embedding_matrix = np.zeros((max_features, vector_size))\n",
        "\n",
        "for word, index in tokenizer.word_index.items():\n",
        "    if index >= max_features:\n",
        "        break\n",
        "    if word in word2vec:\n",
        "        embedding_matrix[index] = word2vec[word]\n",
        "    else:\n",
        "        embedding_matrix[index] = np.random.normal(scale=0.6, size=(vector_size,))\n",
        "\n",
        "embedding_layer = Embedding(max_features, vector_size, weights=[embedding_matrix], input_length=X.shape[1], trainable=False)\n"
      ],
      "metadata": {
        "id": "qEodpV1bZVf1"
      },
      "execution_count": 91,
      "outputs": []
    },
    {
      "cell_type": "code",
      "source": [
        "def createmodel():\n",
        "    model = Sequential()\n",
        "    model.add(embedding_layer)\n",
        "    model.add(LSTM(256, dropout=0.2, recurrent_dropout=0.2, return_sequences=True))\n",
        "    model.add(LSTM(128, dropout=0.2, recurrent_dropout=0.2, return_sequences=True))\n",
        "    model.add(LSTM(64, dropout=0.2, recurrent_dropout=0.2))\n",
        "    model.add(Dense(num_classes, activation='softmax'))\n",
        "    optimizer = optimizers.Adam(lr=0.001)\n",
        "    model.compile(loss='categorical_crossentropy', optimizer=optimizer, metrics=['accuracy'])\n",
        "    return model\n"
      ],
      "metadata": {
        "id": "ZLRhXuwKcY3i"
      },
      "execution_count": 95,
      "outputs": []
    },
    {
      "cell_type": "code",
      "source": [
        "#we used the batch size of 32 and 64\n",
        "#we used the epochs of 10 and 20\n",
        "batch_size=32\n",
        "model=createmodel()\n",
        "model.fit(X_train,y_train,epochs=20,batch_size=batch_size,verbose=2)"
      ],
      "metadata": {
        "id": "3bRV52cvR6WH"
      },
      "execution_count": null,
      "outputs": []
    },
    {
      "cell_type": "code",
      "source": [
        "#evaluating the performance of the model \n",
        "#and calculating the loss and accuracy.\n",
        "\n",
        "model.evaluate(X_test, y_test) "
      ],
      "metadata": {
        "colab": {
          "base_uri": "https://localhost:8080/",
          "height": 0
        },
        "id": "nJEEr6fhVCF2",
        "outputId": "921850fe-e433-43a3-b693-e526a23e872a"
      },
      "execution_count": 97,
      "outputs": [
        {
          "output_type": "stream",
          "name": "stdout",
          "text": [
            "430/430 [==============================] - 43s 98ms/step - loss: 2.0631 - accuracy: 0.5176\n"
          ]
        },
        {
          "output_type": "execute_result",
          "data": {
            "text/plain": [
              "[2.063068389892578, 0.5175802707672119]"
            ]
          },
          "metadata": {},
          "execution_count": 97
        }
      ]
    },
    {
      "cell_type": "code",
      "source": [
        "y_pred =   np.argmax(model.predict(X_test), axis  =  1)"
      ],
      "metadata": {
        "colab": {
          "base_uri": "https://localhost:8080/",
          "height": 0
        },
        "id": "S8ROXatOVxe0",
        "outputId": "dab5aa1f-51c5-42b2-ada8-593ca2a5849c"
      },
      "execution_count": 98,
      "outputs": [
        {
          "output_type": "stream",
          "name": "stdout",
          "text": [
            "430/430 [==============================] - 34s 77ms/step\n"
          ]
        }
      ]
    },
    {
      "cell_type": "code",
      "source": [
        "y_true = np.argmax(y_test, axis = 1)"
      ],
      "metadata": {
        "id": "3RJNAyH0V50d"
      },
      "execution_count": 99,
      "outputs": []
    },
    {
      "cell_type": "code",
      "source": [
        "print(metrics.classification_report(y_pred, y_true))"
      ],
      "metadata": {
        "colab": {
          "base_uri": "https://localhost:8080/",
          "height": 0
        },
        "id": "T3ovX_NwWCg2",
        "outputId": "532e13ed-e594-444f-82ac-65c7e7ba4fea"
      },
      "execution_count": 100,
      "outputs": [
        {
          "output_type": "stream",
          "name": "stdout",
          "text": [
            "              precision    recall  f1-score   support\n",
            "\n",
            "           0       0.37      0.40      0.38       371\n",
            "           1       0.44      0.41      0.42       590\n",
            "           2       0.72      0.61      0.66       675\n",
            "           3       0.46      0.45      0.46       345\n",
            "           4       0.63      0.61      0.62      1593\n",
            "           5       0.26      0.25      0.26      1001\n",
            "           6       0.75      0.72      0.74       867\n",
            "           7       0.80      0.77      0.78       790\n",
            "           8       0.17      0.26      0.21       546\n",
            "           9       0.17      0.25      0.20       438\n",
            "          10       0.05      0.12      0.07       302\n",
            "          11       0.15      0.27      0.19       246\n",
            "          12       0.53      0.55      0.54       383\n",
            "          13       0.65      0.56      0.60      5590\n",
            "\n",
            "    accuracy                           0.52     13737\n",
            "   macro avg       0.44      0.44      0.44     13737\n",
            "weighted avg       0.56      0.52      0.53     13737\n",
            "\n"
          ]
        }
      ]
    }
  ],
  "metadata": {
    "colab": {
      "machine_shape": "hm",
      "provenance": []
    },
    "gpuClass": "premium",
    "kernelspec": {
      "display_name": "Python 3",
      "name": "python3"
    },
    "language_info": {
      "name": "python"
    }
  },
  "nbformat": 4,
  "nbformat_minor": 0
}